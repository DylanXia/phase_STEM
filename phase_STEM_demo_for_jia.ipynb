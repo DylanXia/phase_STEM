{
 "cells": [
  {
   "cell_type": "code",
   "execution_count": 21,
   "id": "075a4942-18e5-47dd-a7d1-328a0aaa1e4e",
   "metadata": {},
   "outputs": [],
   "source": [
    "import phase_STEM as ps\n",
    "import os\n",
    "\n",
    "import numpy as np\n",
    "import matplotlib.pyplot as plt\n",
    "import h5py"
   ]
  },
  {
   "cell_type": "code",
   "execution_count": 2,
   "id": "df10d822-6076-4463-9529-4388f5a18d3e",
   "metadata": {},
   "outputs": [],
   "source": [
    "%matplotlib qt5"
   ]
  },
  {
   "cell_type": "code",
   "execution_count": 3,
   "id": "f60bff0a-1914-4bcb-b439-11043ed8eb34",
   "metadata": {},
   "outputs": [],
   "source": [
    "path_file = \"C:/Users/yuxi8598/Documents/Data_SU/Y Xia/20240913/ZSM-5(L+crushed)/\""
   ]
  },
  {
   "cell_type": "code",
   "execution_count": 4,
   "id": "a60db524-559c-4928-bf48-249552a9df54",
   "metadata": {},
   "outputs": [],
   "source": [
    "file = path_file + '1440 1.30 Mx DF4.emd'"
   ]
  },
  {
   "cell_type": "markdown",
   "id": "8c2b9616-b9ab-4f31-b113-8e89ed9662e6",
   "metadata": {},
   "source": [
    "### Using \"hyperspy\" to load raw dataset"
   ]
  },
  {
   "cell_type": "code",
   "execution_count": 5,
   "id": "d2092130-563c-4aa5-af04-49382b4e978e",
   "metadata": {},
   "outputs": [],
   "source": [
    "import hyperspy.api as hs"
   ]
  },
  {
   "cell_type": "code",
   "execution_count": 6,
   "id": "f17ef283-9282-468b-b196-0cac1ae4512d",
   "metadata": {},
   "outputs": [],
   "source": [
    "s = hs.load(file)"
   ]
  },
  {
   "cell_type": "code",
   "execution_count": 7,
   "id": "660d4334-95a5-42c9-a44a-8126e1420daf",
   "metadata": {},
   "outputs": [
    {
     "data": {
      "text/plain": [
       "[<Signal2D, title: DF4-A, dimensions: (|2048, 2048)>,\n",
       " <Signal2D, title: DF4-C, dimensions: (|2048, 2048)>,\n",
       " <Signal2D, title: Unrecognized_image_signal, dimensions: (|2048, 2048)>,\n",
       " <Signal2D, title: iDPC, dimensions: (|2048, 2048)>,\n",
       " <Signal2D, title: dDPC, dimensions: (|2048, 2048)>,\n",
       " <Signal2D, title: A-C, dimensions: (|2048, 2048)>,\n",
       " <Signal2D, title: DF4-D, dimensions: (|2048, 2048)>,\n",
       " <Signal2D, title: DF4-B, dimensions: (|2048, 2048)>,\n",
       " <Signal2D, title: B-D, dimensions: (|2048, 2048)>]"
      ]
     },
     "execution_count": 7,
     "metadata": {},
     "output_type": "execute_result"
    }
   ],
   "source": [
    "# we can quick check the data in the loaded dataset\n",
    "s"
   ]
  },
  {
   "cell_type": "code",
   "execution_count": 8,
   "id": "bae21c09-b6f3-484e-b983-a9dd9ebe3d41",
   "metadata": {},
   "outputs": [
    {
     "name": "stdout",
     "output_type": "stream",
     "text": [
      "original_filename --> 1440 1.30 Mx DF4.emd\n",
      "data --> 2024-09-13/14:40:39\n",
      "beam_voltage (kV) --> 300.0\n",
      "camera_length(mm) --> 228.3\n",
      "resolution --> 0.03716882341069085\n",
      "unit --> nm\n",
      "size in pixel --> 2048\n",
      "semi_convergence_angle (rad) --> 0.015\n",
      "DF4_collection_angle(rad) --> [0.006 0.034]\n",
      "HAADF_collection_angle(rad) --> [0. 0.]\n",
      "defocus (nm) --> -352.24\n",
      "Last measured beam_current (pA) --> 3.451\n",
      "dwell_time(us) --> 5.0\n",
      "magnification --> 1.3_Mx\n",
      "dose_rate(eÅ-2) --> 779.66\n",
      "tilt_alpha(deg) --> 1.976\n",
      "tilt_beta(deg) --> 7.379\n",
      "stage_x (um) --> -775.414\n",
      "stage_y(um) --> 85.262\n",
      "stage_z(um) --> 79.733\n"
     ]
    }
   ],
   "source": [
    "# Here, we can find the acquisition conditions\n",
    "\n",
    "info = ps.tools.information_data(s)\n",
    "for mem, value in info.items():\n",
    "    print(f\"{mem} --> {value}\")"
   ]
  },
  {
   "cell_type": "code",
   "execution_count": 9,
   "id": "d92c62dc-6ee2-4440-8c3e-6c0e3f263659",
   "metadata": {},
   "outputs": [
    {
     "name": "stdout",
     "output_type": "stream",
     "text": [
      "The resolution of images is: 0.03717 nm per pixel\n",
      "\n",
      "The wavelength of beam is: 0.00197 nm \n"
     ]
    }
   ],
   "source": [
    "# We'll need \"resolution\" and \"wavelength\" for image displaying\n",
    "\n",
    "resolution = info['resolution']\n",
    "print(f'The resolution of images is: {round(resolution, 5)} nm per pixel'+'\\n')\n",
    "wavelength = ps.analysis.wavelength_beam(300)\n",
    "print(f'The wavelength of beam is: {round(wavelength, 5)} nm ')"
   ]
  },
  {
   "cell_type": "code",
   "execution_count": 10,
   "id": "30ecc017-bcbf-43b9-a605-0d3eda4f3cd8",
   "metadata": {},
   "outputs": [],
   "source": [
    "# We need to extract the right segment images from the loaded dataset\n",
    "\n",
    "DPC_imgs, titles = ps.tools.extract_segmented_image(s, order_map=None) # the defaulted \"order_map\" is \"DF4-A, DF4-B, DF4-C, DF4-D\""
   ]
  },
  {
   "cell_type": "code",
   "execution_count": 156,
   "id": "655d1684-9abd-4d02-8349-6aae8df4e38e",
   "metadata": {},
   "outputs": [],
   "source": [
    "crop = np.zeros((4, 512, 512))\n",
    "for i in range(4):\n",
    "    crop[i] = ps.tools.crop_matrix(images_OBF[i], [500,1400], [512,512])"
   ]
  },
  {
   "cell_type": "code",
   "execution_count": 160,
   "id": "44823a95-20ba-4d03-95ce-0e4ea4141372",
   "metadata": {},
   "outputs": [],
   "source": [
    "fig, axes = plt.subplots(2, 2, figsize =(6, 6), sharex=True, sharey=True)\n",
    "mask = ps.tools.circle_mask((2048,2048), (1024,1024), (0,550))\n",
    "for i, ax in enumerate(axes.ravel()):\n",
    "    if i < 4:\n",
    "        pcm = ax.imshow(aligned_images[i], cmap = 'viridis')\n",
    "        #pcm = ax.imshow(np.log(np.abs(OBF_Q[i]*mask)+1), cmap = 'viridis')\n",
    "        ax.set_title(f'DPC image. {i+1}-th')\n",
    "        fig.colorbar(pcm, ax=ax, shrink=0.4, extend = 'both')\n",
    "    else:\n",
    "        ax.axis('off')  # Turn off the axis for empty plots\n",
    "plt.tight_layout()\n",
    "#plt.savefig(f\"{path_file}/LCoMxy.tiff\")\n",
    "plt.show()"
   ]
  },
  {
   "cell_type": "code",
   "execution_count": 52,
   "id": "9637e735-7cef-4506-bbf3-90fdd08eb689",
   "metadata": {},
   "outputs": [],
   "source": [
    "def align_images(images):\n",
    "    \"\"\"\n",
    "    Align images using cross-correlation.\n",
    "    \n",
    "    :param images: NumPy array of shape (4, x, y) containing 4 images\n",
    "    :return: Aligned images as a NumPy array of shape (4, x, y)\n",
    "    \"\"\"\n",
    "    num_images, height, width = images.shape\n",
    "    aligned_images = np.zeros_like(images)\n",
    "    aligned_images[0] = images[0]  # Use the first image as reference\n",
    "    \n",
    "    for i in range(1, num_images):\n",
    "        # Compute cross-correlation\n",
    "        correlation = signal.correlate2d(images[0], images[i], mode='same')\n",
    "        \n",
    "        # Find the shift that gives maximum correlation\n",
    "        y_shift, x_shift = np.unravel_index(np.argmax(correlation), correlation.shape)\n",
    "        y_shift -= height // 2\n",
    "        x_shift -= width // 2\n",
    "        \n",
    "        # Apply the shift\n",
    "        if x_shift > 0:\n",
    "            aligned_images[i, :, x_shift:] = images[i, :, :-x_shift]\n",
    "        elif x_shift < 0:\n",
    "            aligned_images[i, :, :x_shift] = images[i, :, -x_shift:]\n",
    "        else:\n",
    "            aligned_images[i, :, :] = images[i, :, :]\n",
    "        \n",
    "        if y_shift > 0:\n",
    "            aligned_images[i, y_shift:, :] = aligned_images[i, :-y_shift, :]\n",
    "        elif y_shift < 0:\n",
    "            aligned_images[i, :y_shift, :] = aligned_images[i, -y_shift:, :]\n",
    "    \n",
    "    return aligned_images"
   ]
  },
  {
   "cell_type": "code",
   "execution_count": 54,
   "id": "ecf84452-6737-4735-9d38-63b57ab4fc59",
   "metadata": {},
   "outputs": [],
   "source": [
    "from scipy import signal"
   ]
  },
  {
   "cell_type": "code",
   "execution_count": 158,
   "id": "9d518ace-b845-498d-8687-ab75a3691531",
   "metadata": {},
   "outputs": [
    {
     "name": "stdout",
     "output_type": "stream",
     "text": [
      "292.5711476802826\n"
     ]
    }
   ],
   "source": [
    "start = time.time()\n",
    "aligned_images = align_images(crop)\n",
    "print(time.time() - start)"
   ]
  },
  {
   "cell_type": "code",
   "execution_count": 159,
   "id": "24c0d447-baee-4ee1-8b9f-262da0713cc9",
   "metadata": {},
   "outputs": [
    {
     "data": {
      "text/plain": [
       "<matplotlib.image.AxesImage at 0x210cd3a6900>"
      ]
     },
     "execution_count": 159,
     "metadata": {},
     "output_type": "execute_result"
    }
   ],
   "source": [
    "plt.imshow(np.sum(aligned_images, axis = 0))"
   ]
  },
  {
   "cell_type": "code",
   "execution_count": 57,
   "id": "b6818f77-4c71-4139-951d-274449612863",
   "metadata": {},
   "outputs": [],
   "source": [
    "DPCs = [aligned_images[0], aligned_images[1], aligned_images[2], aligned_images[3]]"
   ]
  },
  {
   "cell_type": "code",
   "execution_count": 189,
   "id": "2868655b-4cf6-4fa4-8f92-9503e8736f48",
   "metadata": {},
   "outputs": [],
   "source": [
    "#generating the DPCx and DPCy\n",
    "\n",
    "CoMx = DPC_imgs[0] - DPC_imgs[2]\n",
    "CoMy = DPC_imgs[1] - DPC_imgs[3]\n",
    "\n",
    "#CoMx = images_OBF[0] - images_OBF[2]\n",
    "#CoMy = images_OBF[1] - images_OBF[3]"
   ]
  },
  {
   "cell_type": "code",
   "execution_count": 190,
   "id": "8fc88720-6a59-43f4-b3e6-416b45e314c3",
   "metadata": {},
   "outputs": [],
   "source": [
    "CoM = [CoMx, CoMy]\n",
    "fig, axes = plt.subplots(1, 2, figsize =(6, 6), sharex=True, sharey=True)\n",
    "\n",
    "for i, ax in enumerate(axes.ravel()):\n",
    "    if i < 2:\n",
    "        pcm = ax.imshow(CoM[i], cmap = 'viridis')\n",
    "        ax.set_title(f'DPC image. {i+1}-th')\n",
    "        fig.colorbar(pcm, ax=ax, shrink=0.4, extend = 'both')\n",
    "    else:\n",
    "        ax.axis('off')  # Turn off the axis for empty plots\n",
    "plt.tight_layout()\n",
    "#plt.savefig(f\"{path_file}/LCoMxy.tiff\")\n",
    "plt.show()"
   ]
  },
  {
   "cell_type": "code",
   "execution_count": 191,
   "id": "ab33cb69-0cb0-4f40-97c8-bad19dfd0fdc",
   "metadata": {},
   "outputs": [],
   "source": [
    "ps.tools.plot_vector_image(CoMx + 1j*CoMy, title=['1', '2', '3', '4'], imgsize = 6, storing = [False, 'path_save'])"
   ]
  },
  {
   "cell_type": "code",
   "execution_count": 192,
   "id": "f31a030a-bba6-4568-a371-1545634a4218",
   "metadata": {},
   "outputs": [
    {
     "data": {
      "application/vnd.jupyter.widget-view+json": {
       "model_id": "38bf2d3455f24643b3009a86c3dba3b7",
       "version_major": 2,
       "version_minor": 0
      },
      "text/plain": [
       "Building:   0%|           [ time left: ? ]"
      ]
     },
     "metadata": {},
     "output_type": "display_data"
    },
    {
     "name": "stdout",
     "output_type": "stream",
     "text": [
      "The theta is 80.22\n",
      "Does it need to be fliped: True\n"
     ]
    }
   ],
   "source": [
    "#method from py4DSTEM\n",
    "\n",
    "crop_CoMx = ps.tools.crop_matrix(CoMx, [1024,1024], [512,512])\n",
    "crop_CoMy = ps.tools.crop_matrix(CoMy, [1024,1024], [512,512])\n",
    "\n",
    "theta, flip = ps.analysis.get_rotation_and_flip_maxcontrast(crop_CoMx, crop_CoMy, 360, paddingfactor=1,\n",
    "                                      regLowPass=0, regHighPass=0.01, stepsize=1,\n",
    "                                      n_iter=1)\n",
    "print(f'The theta is {np.degrees(theta):.2f}')\n",
    "print(f'Does it need to be fliped: {flip}')"
   ]
  },
  {
   "cell_type": "code",
   "execution_count": 193,
   "id": "6e2b207a-e91c-4be6-8727-aa36e7c10aa7",
   "metadata": {},
   "outputs": [
    {
     "data": {
      "application/vnd.jupyter.widget-view+json": {
       "model_id": "a2e6a8f32725494db432ed913e982667",
       "version_major": 2,
       "version_minor": 0
      },
      "text/plain": [
       "Building:   0%|           [ time left: ? ]"
      ]
     },
     "metadata": {},
     "output_type": "display_data"
    }
   ],
   "source": [
    "idpc, errors = ps.analysis.get_phase_from_CoM(CoMx, CoMy, theta, flip,\n",
    "                                 regLowPass=0, regHighPass=0.0001,\n",
    "                                   paddingfactor=2, stepsize=1, n_iter=20)"
   ]
  },
  {
   "cell_type": "code",
   "execution_count": 264,
   "id": "e4596234-eccd-4170-b863-17cd3cb4c43a",
   "metadata": {},
   "outputs": [],
   "source": [
    "def fourier_transform_rotate_crop(image, rotation_angle):\n",
    "\n",
    "    # Step 2: Perform Fourier Transform\n",
    "    f_transform = np.fft.fftshift(np.fft.fft2(image))\n",
    "\n",
    "    # Step 3: Rotate the Fourier transformed image\n",
    "    rotated_image = ndimage.rotate(image, rotation_angle, reshape=True, mode='reflect')\n",
    "\n",
    "    # Step 5: Inverse Fourier Transform to get the final image\n",
    "    \n",
    "    inverse_transform = np.fft.fftshift(np.fft.fft2(rotated_image))\n",
    "    h, w = image.shape\n",
    "    y, x = inverse_transform.shape\n",
    "    startx = x//2 - w//2\n",
    "    starty = y//2 - h//2\n",
    "    reversed_image = np.fft.ifft2(np.fft.fftshift(inverse_transform[starty:starty+h, startx:startx+w]))\n",
    "    # Normalize the image for display\n",
    "    final_image = np.real(reversed_image)\n",
    "\n",
    "    fig, axes = plt.subplots(2,2)\n",
    "    axes[0,0].imshow(image)\n",
    "    axes[0,1].imshow(np.log(np.abs(f_transform)+1))\n",
    "    axes[1,0].imshow(rotated_image)\n",
    "    axes[1,1].imshow(final_image)\n",
    "    plt.show()\n",
    "    return final_image"
   ]
  },
  {
   "cell_type": "code",
   "execution_count": 265,
   "id": "7a856abf-88a0-46d8-ba0b-9dcbebd914ca",
   "metadata": {},
   "outputs": [],
   "source": [
    "rotated_idpc = fourier_transform_rotate_crop(cp.asnumpy(idpc), 45)"
   ]
  },
  {
   "cell_type": "code",
   "execution_count": 250,
   "id": "bd403d4a-fcb7-429e-a6c9-a7deb7826887",
   "metadata": {},
   "outputs": [
    {
     "data": {
      "text/plain": [
       "<matplotlib.image.AxesImage at 0x210c6722e40>"
      ]
     },
     "execution_count": 250,
     "metadata": {},
     "output_type": "execute_result"
    }
   ],
   "source": [
    "rotated_idpc = ndimage.rotate(cp.asnumpy(idpc), 45, reshape=True)\n",
    "plt.imshow(rotated_idpc)"
   ]
  },
  {
   "cell_type": "code",
   "execution_count": 195,
   "id": "636c4fe5-185b-43e6-a2be-639836beecaa",
   "metadata": {},
   "outputs": [],
   "source": [
    "import cupy as cp"
   ]
  },
  {
   "cell_type": "code",
   "execution_count": 197,
   "id": "d3937e35-7a7d-42c8-86e4-d2f39cdf7d2a",
   "metadata": {},
   "outputs": [
    {
     "data": {
      "text/plain": [
       "<matplotlib.collections.PathCollection at 0x210cea8df40>"
      ]
     },
     "execution_count": 197,
     "metadata": {},
     "output_type": "execute_result"
    }
   ],
   "source": [
    "plt.scatter(np.arange(1,21,1), cp.asnumpy(1/errors))"
   ]
  },
  {
   "cell_type": "code",
   "execution_count": 162,
   "id": "891666f4-0020-4c49-aa9b-2bdb7360c83a",
   "metadata": {},
   "outputs": [],
   "source": [
    "# As the \"idpc\" is cp.array, if you want to plot is using 'matplotlib', then you should convert it into np.array\n",
    "#We can use the following commander to plot/save the 'idpc'\n",
    "\n",
    "ps.tools.plot_image(DPC_imgs, properties= {\n",
    "             'resolution': resolution,\n",
    "              'unit': 'nm',\n",
    "              'bar location':'',\n",
    "             'image titles': \"iDPC\",\n",
    "             'figsize':6,\n",
    "              'cmap':'',\n",
    "              'dpi': 600,\n",
    "              'image format':'.jpeg',\n",
    "              'showing titles': True,\n",
    "             'cropping image': [True, [500,1400], [256,256]],\n",
    "             'saving image': False,   # if you want to save it, then 'True'\n",
    "             'saving path':path_file+ \"/1440iDPC\"  # choose the saving folder address and the name of this figure\n",
    "              })"
   ]
  },
  {
   "cell_type": "markdown",
   "id": "e4102039-10df-4894-ae76-f79840879543",
   "metadata": {},
   "source": [
    "### Reconstructing OBF image"
   ]
  },
  {
   "cell_type": "code",
   "execution_count": 58,
   "id": "a4e1e64a-cd44-422a-a83d-0873eaad9508",
   "metadata": {},
   "outputs": [],
   "source": [
    "# Firstly, we need the aberrations measured by probe Cs-corrector\n",
    "#Adopting the notations supplied by Uhlemann and Haider\n",
    "\n",
    "ab = {        'C1': 0,                                   #defocus (over focus positive), a real value\n",
    "              'A1': 1.8+ 1j*np.radians(-56.31),     #Two-fold astigamastism\n",
    "              'B2': 47.2 + 1j*np.tan(34.1/32.7),    #Axial coma, a complex, here using the result measured by Sherpa\n",
    "              'A2': 30.7 + 1j*np.tan(-30.7/2.1),         #Three-fold astigmatism\n",
    "              'C3': 884.4,                                #Spherical aberration\n",
    "              'A3': 289 + 1j*np.radians(88.5),          #Four-fold astigmatism\n",
    "              'S3': 132.7 + 1j*np.radians(-97.2),          #Axial star aberration\n",
    "              'A4': 7246 + 1j*np.radians(84.2)}"
   ]
  },
  {
   "cell_type": "code",
   "execution_count": 116,
   "id": "6129ba15-d35c-4632-8056-fb2f4aa76256",
   "metadata": {},
   "outputs": [],
   "source": [
    "# Firstly, we need the aberrations measured by probe Cs-corrector\n",
    "#Adopting the notations supplied by Uhlemann and Haider\n",
    "\n",
    "ab = {        'C1': 0,                                   #defocus (over focus positive), a real value\n",
    "              'A1': 0 + 1j*np.radians(0),     #Two-fold astigamastism\n",
    "              'B2': 0 + 1j*np.radians(0),    #Axial coma, a complex, here using the result measured by Sherpa\n",
    "              'A2': 0 + 1j*np.radians(0),         #Three-fold astigmatism\n",
    "              'C3': 0,                                #Spherical aberration\n",
    "              'A3': 0 + 1j*np.radians(0),          #Four-fold astigmatism\n",
    "              'S3': 0 + 1j*np.radians(0),          #Axial star aberration\n",
    "              'A4': 0 + 1j*np.radians(0)}"
   ]
  },
  {
   "cell_type": "code",
   "execution_count": 59,
   "id": "5626ead8-45ec-471d-b9cc-b55bf9d954e6",
   "metadata": {},
   "outputs": [],
   "source": [
    "wavelength = ps.analysis.wavelength_beam(300)"
   ]
  },
  {
   "cell_type": "code",
   "execution_count": 183,
   "id": "235f3a6a-d865-4ec7-905a-222a0769df38",
   "metadata": {},
   "outputs": [
    {
     "name": "stdout",
     "output_type": "stream",
     "text": [
      "[[ -45.   45.]\n",
      " [  45.  135.]\n",
      " [ 135.  225.]\n",
      " [-135.  -45.]]\n"
     ]
    }
   ],
   "source": [
    "#describing the geometric planes of DF4 detectors\n",
    "c = 0\n",
    "segments = np.array(([-45+c,45+c], [45+c,135+c], [135+c,225+c], [225+c-360,315+c-360]), dtype = np.float64)\n",
    "print(segments)"
   ]
  },
  {
   "cell_type": "code",
   "execution_count": 201,
   "id": "3e2e36cb-3937-469c-a804-e553f4913636",
   "metadata": {},
   "outputs": [],
   "source": [
    "\n",
    "parameters = {\"sample thickness(nm)\": 10,\n",
    "             \"wavelength(nm)\": wavelength,\n",
    "             \"resolution(nm)\": resolution,\n",
    "              \"dose rate(e-Å-2)\": 1,\n",
    "             \"collection angles(rad)\": [0.010, 0.030], \n",
    "             \"semi_convergence angle(rad)\": 0.01,\n",
    "             \"pixelsize of filters\": DPC_imgs[0].shape[0]/8, #controlling the pixel size of the filter\n",
    "             \"virtual grids in one segment detector\": 20}"
   ]
  },
  {
   "cell_type": "code",
   "execution_count": 143,
   "id": "0f6224ac-e3c7-4d03-8184-cae1f4ec417d",
   "metadata": {},
   "outputs": [],
   "source": [
    "import time"
   ]
  },
  {
   "cell_type": "code",
   "execution_count": 202,
   "id": "5a9ddc37-27c4-4bb1-b417-97cd0f4b5e33",
   "metadata": {},
   "outputs": [
    {
     "data": {
      "application/vnd.jupyter.widget-view+json": {
       "model_id": "c7e5844d3983402498ed2ea1c1aedef9",
       "version_major": 2,
       "version_minor": 0
      },
      "text/plain": [
       "Building:   0%|           [ time left: ? ]"
      ]
     },
     "metadata": {},
     "output_type": "display_data"
    },
    {
     "name": "stdout",
     "output_type": "stream",
     "text": [
      "--- 12 seconds left!\n",
      "The whole process takes 46 seconds.\n"
     ]
    }
   ],
   "source": [
    "#built_WPO = ps.analysis.phase_filters_GPU(ab, segments, parameters, slices=[False, 20], single_side_band=False, process=True)\n",
    "\n",
    "built_WPO2, num = ps.analysis.phase_filters_GPU(ab, segments, parameters, slices=1, process=True)"
   ]
  },
  {
   "cell_type": "markdown",
   "id": "5dc53b4f-d3f5-4727-8f6d-646c15bb98fb",
   "metadata": {},
   "source": [
    "#### Directly use built phase filters"
   ]
  },
  {
   "cell_type": "code",
   "execution_count": 72,
   "id": "d4ae24eb-6032-47c7-8dc2-05e5a70f30f5",
   "metadata": {},
   "outputs": [],
   "source": [
    "phase_filters = h5py.File('C:/Users/yuxi8598/Documents/Data_SU/google colab/1.3Mx/1.30 Mx_GPU_2048px.h5', 'r')"
   ]
  },
  {
   "cell_type": "code",
   "execution_count": 73,
   "id": "9e551126-f4c4-49c0-9a7e-cd3765bd04ef",
   "metadata": {},
   "outputs": [
    {
     "name": "stdout",
     "output_type": "stream",
     "text": [
      "  |>--\u001b[92mDataset: /seg_1\u001b[0m\n",
      "  |>---Here is an array with a shape of (2048, 2048)\n",
      "  |>--\u001b[92mDataset: /seg_2\u001b[0m\n",
      "  |>---Here is an array with a shape of (2048, 2048)\n",
      "  |>--\u001b[92mDataset: /seg_3\u001b[0m\n",
      "  |>---Here is an array with a shape of (2048, 2048)\n",
      "  |>--\u001b[92mDataset: /seg_4\u001b[0m\n",
      "  |>---Here is an array with a shape of (2048, 2048)\n"
     ]
    }
   ],
   "source": [
    "ps.tools.data_tree(phase_filters)"
   ]
  },
  {
   "cell_type": "code",
   "execution_count": 75,
   "id": "536f50b0-ba23-48d5-9a22-560604bf674e",
   "metadata": {},
   "outputs": [
    {
     "data": {
      "text/plain": [
       "<KeysViewHDF5 ['seg_1', 'seg_2', 'seg_3', 'seg_4']>"
      ]
     },
     "execution_count": 75,
     "metadata": {},
     "output_type": "execute_result"
    }
   ],
   "source": [
    "phase_filters.keys()"
   ]
  },
  {
   "cell_type": "code",
   "execution_count": 76,
   "id": "4b70d9d3-6312-4c5e-aeec-748e2ea9fb66",
   "metadata": {},
   "outputs": [],
   "source": [
    "built_WPO = []\n",
    "for ft in phase_filters:\n",
    "    built_WPO.append(phase_filters[ft][()])"
   ]
  },
  {
   "cell_type": "code",
   "execution_count": 314,
   "id": "890e2fb5-411c-4603-a5fe-1e6178a92066",
   "metadata": {},
   "outputs": [],
   "source": [
    "ps.tools.plot_vector_image(built_WPO2, title=['1', '2', '3', '4'], imgsize = 6, storing = [False, 'path_save'])"
   ]
  },
  {
   "cell_type": "code",
   "execution_count": 207,
   "id": "8245c9ee-5233-41f8-9615-4ddcadf378d5",
   "metadata": {},
   "outputs": [],
   "source": [
    "OBF_R, OBF_Q = reconstruct_OBF(DPC_imgs, built_WPO2, parameters)"
   ]
  },
  {
   "cell_type": "code",
   "execution_count": 205,
   "id": "8be92096-f507-42dc-ad28-d29c298cc59a",
   "metadata": {},
   "outputs": [],
   "source": [
    "images_OBF = np.zeros((4, 2048,2048))\n",
    "for i in range(4):\n",
    "    images_OBF[i] = np.real(pyfftw.interfaces.numpy_fft.ifft2(pyfftw.interfaces.numpy_fft.ifftshift(OBF_Q[i]*mask)))\n"
   ]
  },
  {
   "cell_type": "code",
   "execution_count": 111,
   "id": "1825ad41-7d5b-4792-82ba-86a5506e4397",
   "metadata": {},
   "outputs": [],
   "source": [
    "ddd = [DPC_imgs[2], DPC_imgs[3], DPC_imgs[0], DPC_imgs[1]]"
   ]
  },
  {
   "cell_type": "code",
   "execution_count": 206,
   "id": "1a0d3253-6469-42cf-bd1d-5e6654889bb3",
   "metadata": {},
   "outputs": [],
   "source": [
    "fig, axes = plt.subplots(2, 2, figsize =(6, 6), sharex=True, sharey=True)\n",
    "mask = ps.tools.circle_mask((2048,2048), (1024,1024), (0,550))\n",
    "for i, ax in enumerate(axes.ravel()):\n",
    "    if i < 4:\n",
    "        pcm = ax.imshow(images_OBF[i], cmap = 'viridis')\n",
    "        #pcm = ax.imshow(np.log(np.abs(OBF_Q[i]*mask)+1), cmap = 'viridis')\n",
    "        ax.set_title(f'DPC image. {i+1}-th')\n",
    "        fig.colorbar(pcm, ax=ax, shrink=0.4, extend = 'both')\n",
    "    else:\n",
    "        ax.axis('off')  # Turn off the axis for empty plots\n",
    "plt.tight_layout()\n",
    "#plt.savefig(f\"{path_file}/LCoMxy.tiff\")\n",
    "plt.show()"
   ]
  },
  {
   "cell_type": "code",
   "execution_count": 86,
   "id": "99ffcfaf-e152-4c05-9037-f911e3329a97",
   "metadata": {},
   "outputs": [],
   "source": [
    "import scipy.ndimage as ndimage"
   ]
  },
  {
   "cell_type": "code",
   "execution_count": 92,
   "id": "e31c85b0-a3bb-41d5-9f19-b2035403f68c",
   "metadata": {},
   "outputs": [],
   "source": [
    "def reconstruct_OBF(DPC_imgs, PCTFs, parameters):\n",
    "    \"\"\"\n",
    "    It is used to reconstruct the OBF image based on segmented images.\n",
    "    For enhancing the calculating speed, pyFFTW is utilized.\n",
    "    \n",
    "    Args:\n",
    "        DPC_imgs (list): A list of segmented images (numpy.ndarray).\n",
    "        PCTFs (list): A list of corresponding phase filters (numpy.ndarray).\n",
    "        parameters: dictionary, recording the key information of experiments for the calculation.\n",
    "    Returns:\n",
    "        All the returned data is numpy.ndarray for the convenience of plotting.\n",
    "        1. OBF_image: Reconstructed OBF in real space.\n",
    "        2. OBF_Q: reconstructed OBF in Fourier domain\n",
    "   \n",
    "    \"\"\"\n",
    "\n",
    "    wavelength = parameters[\"wavelength(nm)\"]\n",
    "    collection_angle = parameters[\"collection angles(rad)\"]\n",
    "    resolution = parameters[\"resolution(nm)\"]\n",
    "\n",
    "    sizeX_img, sizeY_img = DPC_imgs[0].shape\n",
    "    sizeX, sizeY = PCTFs[0].shape\n",
    "    ratioX = (sizeX_img / sizeX)\n",
    "    ratioY = (sizeY_img / sizeY)\n",
    "    num = len(DPC_imgs)\n",
    "    phase_filters = []\n",
    "    #normalizing the PCTFs \n",
    "    for p in PCTFs:\n",
    "        if ratioX != 1 or ratioY != 1:\n",
    "            temp_filter = ndimage.zoom(1j * p, (ratioX, ratioY))\n",
    "        else:\n",
    "            temp_filter = 1j * p\n",
    "        phase_filters.append(temp_filter)\n",
    "        \n",
    "    d_Q = np.zeros(num)\n",
    "    for i in range(num):\n",
    "        bkg = min(abs(np.min(DPC_imgs[i])), abs(np.max(DPC_imgs[i])))\n",
    "        if bkg != 0:\n",
    "            d_Q[i] = bkg\n",
    "        else: d_Q[i] = 1\n",
    "    KQ_squared = np.zeros((sizeX_img, sizeY_img), dtype=np.float64)\n",
    "    for i in range(num):\n",
    "        KQ_squared += np.real(np.square(np.abs(phase_filters[i]))) / d_Q[i]\n",
    "    # Calculate the weighting of filters\n",
    "    weighting = np.sqrt(KQ_squared)\n",
    "    weighting[weighting == 0] = np.inf\n",
    "    weightingInv = np.reciprocal(weighting)\n",
    "\n",
    "    OBF_Q = pyfftw.empty_aligned((num, sizeX_img, sizeY_img), dtype=np.complex128)    \n",
    "    OBF_Q.fill(0)\n",
    "    # Create aligned arrays for FFT input and output\n",
    "\n",
    "    for n in range (num):\n",
    "        wq = np.conj(phase_filters[n]) * weightingInv /d_Q[n]     \n",
    "        dft_DPCs = pyfftw.empty_aligned((sizeX_img, sizeY_img), dtype=np.complex128)\n",
    "        dft_DPCs[:] = pyfftw.interfaces.numpy_fft.fft2(DPC_imgs[n])\n",
    "        dft_DPCs = pyfftw.interfaces.numpy_fft.fftshift(dft_DPCs)  \n",
    "        OBF_Q[n] = dft_DPCs * wq    \n",
    "    # There are usually shifts existing in the segmented images\n",
    "    # It is helpful to improve the quality of the reconstructed OBF image by doing shift correction\n",
    "    # Use the first image as the reference\n",
    "    reference = pyfftw.interfaces.numpy_fft.ifft2(pyfftw.interfaces.numpy_fft.ifftshift(OBF_Q[0]))  \n",
    "    aligned_images = [reference.real]\n",
    "    for i in range(1, num):\n",
    "        # Compute the shift between the reference and the current image\n",
    "        compare = pyfftw.interfaces.numpy_fft.ifft2(pyfftw.interfaces.numpy_fft.ifftshift(OBF_Q[i]))\n",
    "        moving, error, diffphase = phase_cross_correlation(reference.real, compare.real, upsample_factor=200)\n",
    "        # Apply the shift to the current image\n",
    "        corrected_image = ndimage.shift(compare.real, moving)\n",
    "        aligned_images.append(corrected_image)\n",
    "        \n",
    "    OBF_image = np.sum(np.array(aligned_images), axis=0)\n",
    "    #plotting the reconstructed OBF in Fourier domain \n",
    "    reciprocal_res = 1/resolution\n",
    "    extend_edge = 0.5*reciprocal_res\n",
    "    extend = [-extend_edge, extend_edge, -extend_edge, extend_edge]\n",
    "    summation = np.sum(OBF_Q, axis = 0)\n",
    "    summation[sizeX_img//2, sizeY_img//2] = 0\n",
    "    dft_amp = np.log(np.abs(summation/sizeX_img)+1)\n",
    "    fig, (ax0, ax1) = plt.subplots(1, 2)\n",
    "    ax0.imshow(dft_amp, extent = extend, interpolation='hanning', vmax = np.max(dft_amp)*1.1)\n",
    "    ax0.set_title('Amplitude of OBF in Fourier domain')\n",
    "    ax0.set_xlabel('Length (1/Å)')\n",
    "    ax0.set_ylabel('Length (1/Å)')\n",
    "    length = [-resolution * sizeX_img/2, resolution * sizeX_img/2, -resolution * sizeY_img/2, resolution * sizeY_img/2]\n",
    "    ax1.imshow(OBF_image, extent = length, interpolation='gaussian')\n",
    "    ax1.set_title('Reconstructed OBF')\n",
    "    ax1.set_xlabel('Length (nm)')\n",
    "    ax1.set_ylabel('Length (nm)')\n",
    "    plt.tight_layout()\n",
    "    plt.show()\n",
    "    return OBF_image, OBF_Q"
   ]
  },
  {
   "cell_type": "code",
   "execution_count": 441,
   "id": "4abe289f-f343-401b-abdc-7f26c207019b",
   "metadata": {},
   "outputs": [],
   "source": [
    "from skimage import draw"
   ]
  },
  {
   "cell_type": "code",
   "execution_count": 437,
   "id": "b532096a-d7b9-49f3-a95e-178f148a52ce",
   "metadata": {},
   "outputs": [],
   "source": [
    "\n",
    "class OBFReconstructor:\n",
    "    def __init__(self, DPC_imgs, PCTFs, parameters):\n",
    "        \"\"\"\n",
    "        Class to reconstruct the OBF image based on segmented images using pyFFTW for enhanced performance.\n",
    "\n",
    "        Args:\n",
    "            DPC_imgs (list): A list of segmented images (numpy.ndarray).\n",
    "            PCTFs (list): A list of corresponding phase filters (numpy.ndarray).\n",
    "            parameters (dict): Dictionary containing key information for the experiment such as:\n",
    "                - 'wavelength(nm)': Wavelength of light used.\n",
    "                - 'collection angles(rad)': Collection angles of the imaging system.\n",
    "                - 'resolution(nm)': Resolution of the imaging system.\n",
    "        \"\"\"\n",
    "        self.DPC_imgs = DPC_imgs\n",
    "        self.PCTFs = PCTFs\n",
    "        self.resolution = parameters[\"resolution(nm)\"]\n",
    "        self.num = len(DPC_imgs)\n",
    "        self.sizeX_img, self.sizeY_img = DPC_imgs[0].shape\n",
    "        self.sizeX, self.sizeY = PCTFs[0].shape\n",
    "        self.ratioX = self.sizeX_img / self.sizeX\n",
    "        self.ratioY = self.sizeY_img / self.sizeY\n",
    "\n",
    "    def normalize_PCTFs(self):\n",
    "        \"\"\" Normalize the phase filters based on the size ratios. \"\"\"\n",
    "        phase_filters = []\n",
    "        for p in self.PCTFs:\n",
    "            if self.ratioX != 1 or self.ratioY != 1:\n",
    "                temp_filter = ndimage.zoom(1j * p, (self.ratioX, self.ratioY))\n",
    "            else:\n",
    "                temp_filter = 1j * p\n",
    "            phase_filters.append(temp_filter)\n",
    "        return phase_filters\n",
    "\n",
    "    def compute_dQ(self):\n",
    "        \"\"\" Compute the d_Q array for background correction. \"\"\"\n",
    "        d_Q = np.zeros(self.num)\n",
    "        for i in range(self.num):\n",
    "            bkg = min(abs(np.min(self.DPC_imgs[i])), abs(np.max(self.DPC_imgs[i])))\n",
    "            d_Q[i] = bkg if bkg != 0 else 1\n",
    "        return d_Q\n",
    "\n",
    "    def compute_weighting(self, phase_filters, d_Q):\n",
    "        \"\"\" Compute the weighting array using the phase filters and d_Q. \"\"\"\n",
    "        KQ_squared = np.zeros((self.sizeX_img, self.sizeY_img), dtype=np.float64)\n",
    "        for i in range(self.num):\n",
    "            KQ_squared += np.real(np.square(np.abs(phase_filters[i]))) / d_Q[i]\n",
    "        \n",
    "        weighting = np.sqrt(KQ_squared)\n",
    "        weighting[weighting == 0] = np.inf  # Avoid division by zero\n",
    "        return np.reciprocal(weighting)\n",
    "\n",
    "    def compute_OBF_Q(self, phase_filters, d_Q, weightingInv):\n",
    "        \"\"\" Compute the OBF in the Fourier domain. \"\"\"\n",
    "        OBF_Q = pyfftw.empty_aligned((self.num, self.sizeX_img, self.sizeY_img), dtype=np.complex128)\n",
    "        OBF_Q.fill(0)\n",
    "        for n in range(self.num):\n",
    "            wq = np.conj(phase_filters[n]) * weightingInv / d_Q[n]\n",
    "            dft_DPCs = pyfftw.empty_aligned((self.sizeX_img, self.sizeY_img), dtype=np.complex128)\n",
    "            dft_DPCs[:] = pyfftw.interfaces.numpy_fft.fft2(self.DPC_imgs[n])\n",
    "            dft_DPCs = pyfftw.interfaces.numpy_fft.fftshift(dft_DPCs)\n",
    "            OBF_Q[n] = dft_DPCs * wq\n",
    "        return OBF_Q\n",
    "\n",
    "    def align_images(self, OBF_Q):\n",
    "        \"\"\" Align segmented images using the phase cross-correlation method. \"\"\"\n",
    "        values = np.zeros(self.num)\n",
    "        for i in range(self.num):\n",
    "            values[i] = np.max(OBF_Q[i].real)\n",
    "        max_value = np.max(values)\n",
    "        index = np.argmax(values)\n",
    "        print(index)\n",
    "        reference = pyfftw.interfaces.numpy_fft.ifft2(pyfftw.interfaces.numpy_fft.ifftshift(OBF_Q[index]))\n",
    "        self.aligned_images = [reference.real]\n",
    "        for i in range(0, self.num):\n",
    "            if i != index:\n",
    "                print(max_value/values[i])\n",
    "                compare = pyfftw.interfaces.numpy_fft.ifft2(pyfftw.interfaces.numpy_fft.ifftshift(OBF_Q[i]))\n",
    "                moving, _, _ = phase_cross_correlation(reference.real, compare.real, upsample_factor=200, normalization = \"phase\")\n",
    "                print(i, moving)\n",
    "                corrected_image = ndimage.shift(compare.real, moving)\n",
    "                self.aligned_images.append(corrected_image)\n",
    "        return np.sum(np.array(self.aligned_images), axis=0)\n",
    "\n",
    "    def plot_results(self, OBF_image, OBF_Q):\n",
    "        \"\"\" Plot the results of the reconstruction in real and Fourier space. \"\"\"\n",
    "        reciprocal_res = 1 / self.resolution\n",
    "        extend_edge = 0.5 * reciprocal_res\n",
    "        extend = [-extend_edge, extend_edge, -extend_edge, extend_edge]\n",
    "\n",
    "        summation = np.sum(OBF_Q, axis=0)\n",
    "        summation[self.sizeX_img // 2, self.sizeY_img // 2] = 0\n",
    "        dft_amp = np.log(np.abs(summation / self.sizeX_img) + 1)\n",
    "\n",
    "        fig, (ax0, ax1) = plt.subplots(1, 2)\n",
    "        ax0.imshow(dft_amp, extent=extend, interpolation='hanning', vmax=np.max(dft_amp) * 1.1)\n",
    "        ax0.set_title('Amplitude of OBF in Fourier domain')\n",
    "        ax0.set_xlabel('Length (1/Å)')\n",
    "        ax0.set_ylabel('Length (1/Å)')\n",
    "\n",
    "        length = [-self.resolution * self.sizeX_img / 2, self.resolution * self.sizeX_img / 2, \n",
    "                  -self.resolution * self.sizeY_img / 2, self.resolution * self.sizeY_img / 2]\n",
    "        ax1.imshow(OBF_image, extent=length, interpolation='gaussian')\n",
    "        ax1.set_title('Reconstructed OBF')\n",
    "        ax1.set_xlabel('Length (nm)')\n",
    "        ax1.set_ylabel('Length (nm)')\n",
    "        plt.tight_layout()\n",
    "        plt.show()\n",
    "\n",
    "    def reconstruct_OBF(self):\n",
    "        \"\"\" Main function to reconstruct the OBF image and Fourier domain representation. \"\"\"\n",
    "        phase_filters = self.normalize_PCTFs()\n",
    "        d_Q = self.compute_dQ()\n",
    "        weightingInv = self.compute_weighting(phase_filters, d_Q)\n",
    "        OBF_Q = self.compute_OBF_Q(phase_filters, d_Q, weightingInv)\n",
    "        OBF_image = self.align_images(OBF_Q)\n",
    "        self.plot_results(OBF_image, OBF_Q)\n",
    "        return OBF_image, OBF_Q\n"
   ]
  },
  {
   "cell_type": "code",
   "execution_count": 400,
   "id": "8f58f937-01ba-41d9-b1be-3ad8c2b400fb",
   "metadata": {},
   "outputs": [],
   "source": [
    "DPC = [DPC_imgs[0] ,DPC_imgs[1], DPC_imgs[2], DPC_imgs[3]]"
   ]
  },
  {
   "cell_type": "code",
   "execution_count": 438,
   "id": "e31f248b-ca59-49b6-ae2b-11a330c16fd6",
   "metadata": {},
   "outputs": [],
   "source": [
    "obf_reconstructor = OBFReconstructor(DPC, built_WPO2, parameters)"
   ]
  },
  {
   "cell_type": "code",
   "execution_count": 439,
   "id": "024591de-89fb-4a91-a580-a9dc80126939",
   "metadata": {},
   "outputs": [
    {
     "name": "stdout",
     "output_type": "stream",
     "text": [
      "0\n",
      "1.2750704183684871\n",
      "1 [0.815 1.125]\n",
      "1.2679577129021908\n",
      "2 [0.02 1.84]\n",
      "1.8680854512926826\n",
      "3 [-0.87  1.04]\n"
     ]
    }
   ],
   "source": [
    "OBF_image, OBF_Q = obf_reconstructor.reconstruct_OBF()"
   ]
  },
  {
   "cell_type": "code",
   "execution_count": 399,
   "id": "a9749370-ccf0-4813-aaa1-5ceca8286fdd",
   "metadata": {},
   "outputs": [
    {
     "data": {
      "text/plain": [
       "<matplotlib.image.AxesImage at 0x211230d71d0>"
      ]
     },
     "execution_count": 399,
     "metadata": {},
     "output_type": "execute_result"
    }
   ],
   "source": [
    "plt.imshow(OBF_image)"
   ]
  },
  {
   "cell_type": "code",
   "execution_count": 488,
   "id": "77bd4748-4a36-4c42-97be-1d8d35532177",
   "metadata": {},
   "outputs": [],
   "source": [
    "\n",
    "\n",
    "def align_images(images, space='real', mask_center=(300, 1450), mask_size=(256, 256)):\n",
    "    \"\"\"\n",
    "    Perform image registration using skimage.registration.phase_cross_correlation.\n",
    "    \n",
    "    Args:\n",
    "        images: np.ndarray, with shape (num, pixel_x, pixel_y)\n",
    "        space: string, if 'images' are in real space, use 'real'; \n",
    "               if they are Fourier transformed, use 'Fourier'.\n",
    "        mask_center: tuple, the coordinate of the mask center in pixels, like (300, 1450)\n",
    "        mask_size: tuple, the height and width of the mask, like (256, 256)\n",
    "    \n",
    "    Returns:\n",
    "        aligned_images: np.ndarray of aligned images.\n",
    "    \"\"\"\n",
    "    \n",
    "    num, px, py = images.shape\n",
    "    values = np.zeros(num)\n",
    "    \n",
    "    # Create the mask\n",
    "    mask = np.zeros((px, py), dtype=np.uint8)\n",
    "    half_mask_size = (mask_size[0] // 2, mask_size[1] // 2)\n",
    "    \n",
    "    row1 = max(0, mask_center[0] - half_mask_size[0])\n",
    "    row2 = min(px, mask_center[0] + half_mask_size[0])\n",
    "    col1 = max(0, mask_center[1] - half_mask_size[1])\n",
    "    col2 = min(py, mask_center[1] + half_mask_size[1])\n",
    "    \n",
    "    if max(mask_center) >= max(px, py) or row2 <= row1 or col2 <= col1:\n",
    "        raise ValueError(\"Invalid mask parameters. Check mask center or mask size.\")\n",
    "    \n",
    "    mask[row1:row2, col1:col2] = 1\n",
    "    \n",
    "    # Calculate the standard deviation of the real part for each image\n",
    "    for i in range(num):\n",
    "        values[i] = np.std(images[i].real)\n",
    "    \n",
    "    # Choose the image with the highest variance as the reference\n",
    "    index = np.argmax(values)\n",
    "    aligned_images = []\n",
    "    \n",
    "    # Real-space alignment\n",
    "    if space == 'real':\n",
    "        reference = images[index]\n",
    "        aligned_images.append(reference)\n",
    "        \n",
    "        for i in range(num):\n",
    "            if i != index:\n",
    "                shift_vector, _, _ = phase_cross_correlation(reference * mask, images[i] * mask, upsample_factor=200)\n",
    "                aligned_image = shift(images[i], shift_vector)\n",
    "                aligned_images.append(aligned_image)\n",
    "    \n",
    "    # Fourier-space alignment\n",
    "    elif space in ['Fourier', 'Fourier space', 'Reciprocal space', 'Reciprocal']:\n",
    "        reference = pyfftw.interfaces.numpy_fft.ifft2(pyfftw.interfaces.numpy_fft.ifftshift(images[index]))\n",
    "        aligned_images.append(reference.real)\n",
    "        plt.imshow(reference.real*mask)\n",
    "        for i in range(num):\n",
    "            if i != index:\n",
    "                compare = pyfftw.interfaces.numpy_fft.ifft2(pyfftw.interfaces.numpy_fft.ifftshift(images[i]))\n",
    "                shift_vector, _, _ = phase_cross_correlation(reference.real * mask, compare.real * mask, upsample_factor=200)\n",
    "                aligned_image = shift(compare.real, shift_vector)\n",
    "                aligned_images.append(aligned_image)\n",
    "    \n",
    "    else:\n",
    "        raise ValueError(\"Please choose the correct space: 'real' or 'Fourier'.\")\n",
    "    \n",
    "    return np.array(aligned_images)\n"
   ]
  },
  {
   "cell_type": "code",
   "execution_count": 489,
   "id": "339ad0d3-44a8-4f9a-9306-327f2c8107df",
   "metadata": {},
   "outputs": [],
   "source": [
    "# Assuming your images are stored in a variable called 'images'\n",
    "aligned_images = align_images(OBF_Q, space='Fourier',mask_center=(600,1400),mask_size=(600,600))"
   ]
  },
  {
   "cell_type": "code",
   "execution_count": 490,
   "id": "fba525d1-4382-4acf-bdc6-e68934ba4fdc",
   "metadata": {},
   "outputs": [
    {
     "data": {
      "text/plain": [
       "<matplotlib.image.AxesImage at 0x210f3a5d3a0>"
      ]
     },
     "execution_count": 490,
     "metadata": {},
     "output_type": "execute_result"
    }
   ],
   "source": [
    "plt.imshow(np.sum(aligned_images, axis =0))"
   ]
  },
  {
   "cell_type": "code",
   "execution_count": 462,
   "id": "ba3f7de7-2a23-4dfe-9e6c-c4923ea4f453",
   "metadata": {},
   "outputs": [],
   "source": [
    "fig, axes = plt.subplots(2, 2, figsize =(6, 6), sharex=True, sharey=True)\n",
    "\n",
    "for i, ax in enumerate(axes.ravel()):\n",
    "    if i < 4:\n",
    "        pcm = ax.imshow(aligned_images[i], cmap = 'viridis')\n",
    "        ax.set_title(f'DPC image. {i+1}-th')\n",
    "        fig.colorbar(pcm, ax=ax, shrink=0.4, extend = 'both')\n",
    "    else:\n",
    "        ax.axis('off')  # Turn off the axis for empty plots\n",
    "plt.tight_layout()\n",
    "#plt.savefig(f\"{path_file}/LCoMxy.tiff\")\n",
    "plt.show()"
   ]
  },
  {
   "cell_type": "code",
   "execution_count": 267,
   "id": "7ab7cb6a-1463-4345-8360-1fd07a2f8e1d",
   "metadata": {},
   "outputs": [],
   "source": [
    "from scipy.ndimage import shift"
   ]
  },
  {
   "cell_type": "code",
   "execution_count": 266,
   "id": "f10e3853-7490-4c48-a620-764b8fe9f569",
   "metadata": {},
   "outputs": [],
   "source": [
    "from skimage.registration import phase_cross_correlation"
   ]
  },
  {
   "cell_type": "code",
   "execution_count": 65,
   "id": "d96f8681-4dca-4232-b793-36b27aa952cf",
   "metadata": {},
   "outputs": [],
   "source": [
    "import pyfftw"
   ]
  },
  {
   "cell_type": "code",
   "execution_count": 293,
   "id": "45a847f9-7d11-4632-94d3-7ec1e95f7e99",
   "metadata": {},
   "outputs": [],
   "source": [
    "ps.tools.plot_image([OBF_R,np.sum(aligned_images, axis =0)], properties= {\n",
    "             'resolution': resolution,\n",
    "              'unit': 'nm',\n",
    "              'bar location':'',\n",
    "             'image titles': 'reconstructed iDPC',\n",
    "             'figsize':6,\n",
    "              'cmap':'',\n",
    "              'dpi': 600,\n",
    "              'image format':'.jpeg',\n",
    "              'showing titles': False,\n",
    "             'cropping image': [True, [310,1485], [256,256]],\n",
    "             'saving image': False,\n",
    "             'saving path':path_file+ \"OBF\"\n",
    "              })"
   ]
  },
  {
   "cell_type": "code",
   "execution_count": 377,
   "id": "09712b08-1bda-4f30-8ab6-fbef5a748d71",
   "metadata": {},
   "outputs": [
    {
     "name": "stdout",
     "output_type": "stream",
     "text": [
      "0.99999994\n"
     ]
    }
   ],
   "source": [
    "mssim = ps.tools.get_mssim(ps.tools.linscale(OBF_R), ps.tools.linscale(OBF_image))\n",
    "print(mssim)"
   ]
  },
  {
   "cell_type": "code",
   "execution_count": 300,
   "id": "a773fb46-9c60-4577-ade0-f0f9d893c07c",
   "metadata": {},
   "outputs": [
    {
     "name": "stdout",
     "output_type": "stream",
     "text": [
      "The minimum intensity is : -167.25\n",
      "The maximum intensity is : 162.5\n",
      "The mean intensity is : -0.0\n",
      "The contrast of image is evaluated by: \n",
      "--> Max./Min. ratio: -0.97\n",
      "--> Luminance contrast: 1.97\n",
      "--> Weber contrast: -1.0\n",
      "--> Michelson contrast: -0.9447\n",
      "--> Peak SNR: 13.9224 dB\n"
     ]
    }
   ],
   "source": [
    "ps.tools.contrast_ratio(OBF_R)"
   ]
  },
  {
   "cell_type": "code",
   "execution_count": 440,
   "id": "c1dc7347-41a5-4a1a-94ea-0952cff5f07f",
   "metadata": {},
   "outputs": [
    {
     "name": "stdout",
     "output_type": "stream",
     "text": [
      "The minimum intensity is : -168.28\n",
      "The maximum intensity is : 175.72\n",
      "The mean intensity is : -0.01\n",
      "The contrast of image is evaluated by: \n",
      "--> Max./Min. ratio: -1.04\n",
      "--> Luminance contrast: 2.04\n",
      "--> Weber contrast: -1.0\n",
      "--> Michelson contrast: -1.0925\n",
      "--> Peak SNR: 14.7146 dB\n"
     ]
    }
   ],
   "source": [
    "ps.tools.contrast_ratio(OBF_image)"
   ]
  },
  {
   "cell_type": "code",
   "execution_count": 473,
   "id": "38c754e4-cf77-45e6-9b04-a41e1a96ed5b",
   "metadata": {},
   "outputs": [
    {
     "name": "stdout",
     "output_type": "stream",
     "text": [
      "The minimum intensity is : -167.67\n",
      "The maximum intensity is : 169.56\n",
      "The mean intensity is : -0.01\n",
      "The contrast of image is evaluated by: \n",
      "--> Max./Min. ratio: -1.01\n",
      "--> Luminance contrast: 2.01\n",
      "--> Weber contrast: -1.0\n",
      "--> Michelson contrast: -1.0228\n",
      "--> Peak SNR: 14.55 dB\n"
     ]
    }
   ],
   "source": [
    "ps.tools.contrast_ratio(np.sum(aligned_images, axis =0))"
   ]
  },
  {
   "cell_type": "code",
   "execution_count": 355,
   "id": "60967a9c-3e56-4794-9524-66aa9268d14a",
   "metadata": {},
   "outputs": [],
   "source": [
    "from scipy.ndimage import rotate"
   ]
  },
  {
   "cell_type": "code",
   "execution_count": 416,
   "id": "fd155069-ce46-4416-aa32-4e5bd5c3507f",
   "metadata": {},
   "outputs": [
    {
     "data": {
      "text/plain": [
       "<matplotlib.image.AxesImage at 0x2112ed83800>"
      ]
     },
     "execution_count": 416,
     "metadata": {},
     "output_type": "execute_result"
    }
   ],
   "source": [
    "rotated_img = rotate(OBF_image, -25)\n",
    "plt.imshow(rotated_img)"
   ]
  },
  {
   "cell_type": "code",
   "execution_count": 417,
   "id": "576d33c9-13ab-4b17-a455-bfd9c33d7436",
   "metadata": {},
   "outputs": [],
   "source": [
    "matcher = ps.tools.TemplateMatcher(rotated_img)"
   ]
  },
  {
   "cell_type": "code",
   "execution_count": 418,
   "id": "027120fb-ab91-40b0-9199-9801d33f3e07",
   "metadata": {},
   "outputs": [],
   "source": [
    "matcher.select_template({'top_left': [923,2347], 'height':128, 'width':128})"
   ]
  },
  {
   "cell_type": "code",
   "execution_count": 419,
   "id": "1cbbf884-6dfc-4386-9c08-bf167c783f79",
   "metadata": {},
   "outputs": [],
   "source": [
    "matcher.search_template()"
   ]
  },
  {
   "cell_type": "code",
   "execution_count": 433,
   "id": "fa3a2e70-b7e5-4b4e-a1db-3565b68b157a",
   "metadata": {},
   "outputs": [],
   "source": [
    "finds = matcher.get_matches(threshold=0.67)"
   ]
  },
  {
   "cell_type": "code",
   "execution_count": 434,
   "id": "8fb3885d-7e73-4de1-8198-dd404aabd4ba",
   "metadata": {},
   "outputs": [],
   "source": [
    "stacks = matcher.stack_matches()"
   ]
  },
  {
   "cell_type": "code",
   "execution_count": 430,
   "id": "7a79c66f-b27f-49e3-9b3a-5f8e13bd2393",
   "metadata": {},
   "outputs": [],
   "source": [
    "# Display the results\n",
    "matcher.display()"
   ]
  },
  {
   "cell_type": "code",
   "execution_count": 435,
   "id": "f82eacec-7059-4b53-93c7-97f8822d33d4",
   "metadata": {},
   "outputs": [
    {
     "data": {
      "text/plain": [
       "(26, 128, 128)"
      ]
     },
     "execution_count": 435,
     "metadata": {},
     "output_type": "execute_result"
    }
   ],
   "source": [
    "stacks.shape"
   ]
  },
  {
   "cell_type": "code",
   "execution_count": 436,
   "id": "cc6e88b5-1a04-46b6-b8c9-0a86ef0fbc63",
   "metadata": {},
   "outputs": [
    {
     "data": {
      "text/plain": [
       "(-0.5, 127.5, 127.5, -0.5)"
      ]
     },
     "execution_count": 436,
     "metadata": {},
     "output_type": "execute_result"
    }
   ],
   "source": [
    "plt.imshow(np.sum(stacks, axis =0))\n",
    "plt.axis('off')"
   ]
  },
  {
   "cell_type": "markdown",
   "id": "1cda5950-c623-48e1-86a1-b3813470a648",
   "metadata": {},
   "source": [
    "#### There are several filters can denoise the reconstructed images"
   ]
  },
  {
   "cell_type": "code",
   "execution_count": null,
   "id": "37223cae-edd7-46b6-9fde-8eabb010f1bc",
   "metadata": {},
   "outputs": [],
   "source": []
  },
  {
   "cell_type": "code",
   "execution_count": 217,
   "id": "60472342-3e54-4815-8e24-93a6c8245051",
   "metadata": {},
   "outputs": [],
   "source": [
    "filtered,_ = ps.EMFilters.wiener_filter(OBF_R, delta=5, lowpass=True, lowpass_cutoff=0.3, lowpass_order=2)"
   ]
  },
  {
   "cell_type": "code",
   "execution_count": 219,
   "id": "89f601d4-d3df-4ebf-9b6b-5b808bdaef5b",
   "metadata": {},
   "outputs": [],
   "source": [
    "filtered2,_ = ps.EMFilters.abs_filter(OBF_R, delta=5, lowpass=True, lowpass_cutoff=0.3, lowpass_order=2)"
   ]
  },
  {
   "cell_type": "code",
   "execution_count": 221,
   "id": "2280e33a-42c9-4ad6-9322-74deaaba86af",
   "metadata": {},
   "outputs": [
    {
     "data": {
      "application/vnd.jupyter.widget-view+json": {
       "model_id": "a87ef535b3b0488b92c3ae4595a1efb0",
       "version_major": 2,
       "version_minor": 0
      },
      "text/plain": [
       "Building:   0%|           [ time left: ? ]"
      ]
     },
     "metadata": {},
     "output_type": "display_data"
    }
   ],
   "source": [
    "filtered3,_ = ps.EMFilters.nonlinear_filter(OBF_R, space ='real', N=5, mode='wiener', delta=5, lowpass_cutoff=0.3, lowpass = True, lowpass_order=2)"
   ]
  },
  {
   "cell_type": "code",
   "execution_count": 222,
   "id": "a803bee3-eb58-45ab-bd25-1b4cc0d5d01a",
   "metadata": {},
   "outputs": [
    {
     "data": {
      "text/plain": [
       "<matplotlib.image.AxesImage at 0x210ca7e1ac0>"
      ]
     },
     "execution_count": 222,
     "metadata": {},
     "output_type": "execute_result"
    }
   ],
   "source": [
    "plt.imshow(filtered3[0])"
   ]
  },
  {
   "cell_type": "markdown",
   "id": "853fb8ec-d962-4ab8-975e-b8df5f715918",
   "metadata": {},
   "source": [
    "## The following codes can reconstruct First-momentum STEM image from the segmented images"
   ]
  },
  {
   "cell_type": "code",
   "execution_count": 35,
   "id": "51e438b4-cdd5-4686-87d9-0d0da5686c8c",
   "metadata": {},
   "outputs": [
    {
     "data": {
      "application/vnd.jupyter.widget-view+json": {
       "model_id": "e5c7a817e65d418e98789541b285352e",
       "version_major": 2,
       "version_minor": 0
      },
      "text/plain": [
       "Calculating:   0%|          | 0/180 [00:00<?, ?iteration/s]"
      ]
     },
     "metadata": {},
     "output_type": "display_data"
    },
    {
     "name": "stdout",
     "output_type": "stream",
     "text": [
      "Does it need to flip: True\n",
      "The rotation angle is: 80.90 degrees\n"
     ]
    }
   ],
   "source": [
    "FM = ps.analysis.FMSTEMReconstructor(CoMx, CoMy, stepsize=1, n_iter=10, regHighpass=1e-4)\n",
    "optimal_theta, optimal_flip = FM.optimize_rotation(CoMx, CoMy, thetas = np.linspace(0, 90, 90))"
   ]
  },
  {
   "cell_type": "code",
   "execution_count": 36,
   "id": "780ffee4-90fb-44c5-800c-1ab50c828925",
   "metadata": {},
   "outputs": [
    {
     "data": {
      "application/vnd.jupyter.widget-view+json": {
       "model_id": "b8d24aac26394fb5b972ba3a201d99c4",
       "version_major": 2,
       "version_minor": 0
      },
      "text/plain": [
       "Building:   0%|          | 0/10 [00:00<?, ?iteration/s]"
      ]
     },
     "metadata": {},
     "output_type": "display_data"
    },
    {
     "name": "stdout",
     "output_type": "stream",
     "text": [
      "Iteration: 3: break\n",
      "You can change the iterations through <epsilon>\n"
     ]
    }
   ],
   "source": [
    "FM_image, _ = FM.run(optimal_theta, optimal_flip, point = [1024,1024], crop_size =1024, process=True)"
   ]
  },
  {
   "cell_type": "code",
   "execution_count": 37,
   "id": "692b3cb7-b64a-4690-920f-9fecab270279",
   "metadata": {},
   "outputs": [],
   "source": [
    "FM.display()"
   ]
  },
  {
   "cell_type": "markdown",
   "id": "15e1a641-3a4a-4fab-8924-7bb11e94ee2e",
   "metadata": {},
   "source": [
    "# Following codes can save results using \"h5py\""
   ]
  },
  {
   "cell_type": "code",
   "execution_count": null,
   "id": "6f0a3b28-dbe4-43fd-9bc9-7e2aca7f4fcd",
   "metadata": {},
   "outputs": [],
   "source": [
    "saving_name = \"simu_5nm16mrad80pm_DPC_STEM.h5\"\n",
    "\n",
    "images_for_saving = {'OBF':OBF_R, 'FM_STEM':FM_image}\n",
    "\n",
    "data = h5py.File(f\"{path_file}/saving_name\", 'w')\n",
    "infomation = data.create_group(\"Experimental_parameters\")\n",
    "string_dtype = h5py.special_dtype(vlen=str)  # Using special_dtype for variable-length strings\n",
    "  for i in range(len(info)):\n",
    "      element = (list(info.values())[i])\n",
    "      if type(element)==str:\n",
    "          info_input = infomation.create_dataset(list(info.keys())[i], shape=(1,), dtype = string_dtype)\n",
    "          info_input[0] = element\n",
    "      else:\n",
    "          infomation.create_dataset(list(info.keys())[i], data = element, dtype = 'f')\n",
    "          \n",
    "reconstruct = data.create_group('reconstructed_images') \n",
    "for i in range(len(images_for_saving)):\n",
    "    reconstruct.create_dataset(list(images_for_saving.keys())[i], data= list(images_for_saving.values())[i])\n",
    "data.close()"
   ]
  }
 ],
 "metadata": {
  "kernelspec": {
   "display_name": "Python 3 (Spyder)",
   "language": "python3",
   "name": "python3"
  },
  "language_info": {
   "codemirror_mode": {
    "name": "ipython",
    "version": 3
   },
   "file_extension": ".py",
   "mimetype": "text/x-python",
   "name": "python",
   "nbconvert_exporter": "python",
   "pygments_lexer": "ipython3",
   "version": "3.12.3"
  }
 },
 "nbformat": 4,
 "nbformat_minor": 5
}
