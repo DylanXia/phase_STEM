{
 "cells": [
  {
   "cell_type": "code",
   "execution_count": 1,
   "id": "b7160e22-ec85-4210-8314-45ad3be7a822",
   "metadata": {},
   "outputs": [
    {
     "name": "stderr",
     "output_type": "stream",
     "text": [
      "C:\\ProgramData\\Miniconda3\\envs\\image_registration\\Lib\\site-packages\\paramiko\\pkey.py:100: CryptographyDeprecationWarning: TripleDES has been moved to cryptography.hazmat.decrepit.ciphers.algorithms.TripleDES and will be removed from this module in 48.0.0.\n",
      "  \"cipher\": algorithms.TripleDES,\n",
      "C:\\ProgramData\\Miniconda3\\envs\\image_registration\\Lib\\site-packages\\paramiko\\transport.py:259: CryptographyDeprecationWarning: TripleDES has been moved to cryptography.hazmat.decrepit.ciphers.algorithms.TripleDES and will be removed from this module in 48.0.0.\n",
      "  \"class\": algorithms.TripleDES,\n"
     ]
    }
   ],
   "source": [
    "import phase_STEM as ps\n",
    "import numpy as np\n",
    "import matplotlib.pyplot as plt"
   ]
  },
  {
   "cell_type": "code",
   "execution_count": 2,
   "id": "f4cbb246-c556-4bcd-8ebe-58c58e1820f6",
   "metadata": {},
   "outputs": [],
   "source": [
    "#give a dirctory of a folder in your computer\n",
    "path = \"C:/Users/yuxi8598/Documents/Data_SU/Y Xia/20250310/SU102section_Co2+/\""
   ]
  },
  {
   "cell_type": "code",
   "execution_count": 19,
   "id": "37361481-f567-4d26-9934-3a412bf85557",
   "metadata": {},
   "outputs": [],
   "source": [
    "processor = ps.io.BatchProcessor(colormap='gray', max_images=10)"
   ]
  },
  {
   "cell_type": "code",
   "execution_count": 21,
   "id": "62e8b129-3554-492c-9293-33dc314c0882",
   "metadata": {},
   "outputs": [
    {
     "ename": "ModuleNotFoundError",
     "evalue": "No module named 'sparse'",
     "output_type": "error",
     "traceback": [
      "Traceback \u001b[1;36m(most recent call last)\u001b[0m:\n",
      "\u001b[0m  Cell \u001b[0;32mIn[21], line 1\u001b[0m\n    processor.batch_conversion(file_formats=('emd'), path=path, output_format='png')\u001b[0m\n",
      "\u001b[0m  File \u001b[0;32mC:\\ProgramData\\Miniconda3\\envs\\image_registration\\Lib\\site-packages\\phase_STEM\\io.py:182\u001b[0m in \u001b[0;35mbatch_conversion\u001b[0m\n    image_dict = loading_data(file)\u001b[0m\n",
      "\u001b[0m  File \u001b[0;32mC:\\ProgramData\\Miniconda3\\envs\\image_registration\\Lib\\site-packages\\phase_STEM\\io.py:49\u001b[0m in \u001b[0;35mloading_data\u001b[0m\n    mode = tools.image_mode(file_path)\u001b[0m\n",
      "\u001b[0m  File \u001b[0;32mC:\\ProgramData\\Miniconda3\\envs\\image_registration\\Lib\\site-packages\\phase_STEM\\tools.py:624\u001b[0m in \u001b[0;35mimage_mode\u001b[0m\n    emd_data = emd_reader(file_path)\u001b[0m\n",
      "\u001b[0m  File \u001b[0;32mC:\\ProgramData\\Miniconda3\\envs\\image_registration\\Lib\\site-packages\\rsciio\\emd\\_api.py:201\u001b[0m in \u001b[0;35mfile_reader\u001b[0m\n    raise e\u001b[0m\n",
      "\u001b[0m  File \u001b[0;32mC:\\ProgramData\\Miniconda3\\envs\\image_registration\\Lib\\site-packages\\rsciio\\emd\\_api.py:189\u001b[0m in \u001b[0;35mfile_reader\u001b[0m\n    emd_reader.read_file(file)\u001b[0m\n",
      "\u001b[0m  File \u001b[0;32mC:\\ProgramData\\Miniconda3\\envs\\image_registration\\Lib\\site-packages\\rsciio\\emd\\_emd_velox.py:136\u001b[0m in \u001b[0;35mread_file\u001b[0m\n    self._read_data(self.select_type)\u001b[0m\n",
      "\u001b[0m  File \u001b[0;32mC:\\ProgramData\\Miniconda3\\envs\\image_registration\\Lib\\site-packages\\rsciio\\emd\\_emd_velox.py:166\u001b[0m in \u001b[0;35m_read_data\u001b[0m\n    self._read_spectrum_stream()\u001b[0m\n",
      "\u001b[0m  File \u001b[0;32mC:\\ProgramData\\Miniconda3\\envs\\image_registration\\Lib\\site-packages\\rsciio\\emd\\_emd_velox.py:584\u001b[0m in \u001b[0;35m_read_spectrum_stream\u001b[0m\n    s0 = _read_stream(subgroup_keys[0])\u001b[0m\n",
      "\u001b[0m  File \u001b[0;32mC:\\ProgramData\\Miniconda3\\envs\\image_registration\\Lib\\site-packages\\rsciio\\emd\\_emd_velox.py:577\u001b[0m in \u001b[0;35m_read_stream\u001b[0m\n    stream = FeiSpectrumStream(spectrum_stream_group[key], self)\u001b[0m\n",
      "\u001b[0m  File \u001b[0;32mC:\\ProgramData\\Miniconda3\\envs\\image_registration\\Lib\\site-packages\\rsciio\\emd\\_emd_velox.py:931\u001b[0m in \u001b[0;35m__init__\u001b[0m\n    self.spectrum_image = self.stream_to_array(stream_data=stream_data)\u001b[0m\n",
      "\u001b[0m  File \u001b[0;32mC:\\ProgramData\\Miniconda3\\envs\\image_registration\\Lib\\site-packages\\rsciio\\emd\\_emd_velox.py:975\u001b[0m in \u001b[0;35mstream_to_array\u001b[0m\n    import rsciio.utils.fei_stream_readers as stream_readers\u001b[0m\n",
      "\u001b[1;36m  File \u001b[1;32mC:\\ProgramData\\Miniconda3\\envs\\image_registration\\Lib\\site-packages\\rsciio\\utils\\fei_stream_readers.py:21\u001b[1;36m\n\u001b[1;33m    import sparse\u001b[1;36m\n",
      "\u001b[1;31mModuleNotFoundError\u001b[0m\u001b[1;31m:\u001b[0m No module named 'sparse'\n"
     ]
    }
   ],
   "source": [
    "processor.batch_conversion(file_formats=('emd'), path=path, output_format='png')"
   ]
  }
 ],
 "metadata": {
  "kernelspec": {
   "display_name": "Python 3 (Spyder)",
   "language": "python3",
   "name": "python3"
  },
  "language_info": {
   "codemirror_mode": {
    "name": "ipython",
    "version": 3
   },
   "file_extension": ".py",
   "mimetype": "text/x-python",
   "name": "python",
   "nbconvert_exporter": "python",
   "pygments_lexer": "ipython3",
   "version": "3.12.3"
  }
 },
 "nbformat": 4,
 "nbformat_minor": 5
}
